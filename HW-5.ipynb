{
 "cells": [
  {
   "cell_type": "code",
   "execution_count": null,
   "metadata": {},
   "outputs": [],
   "source": [
    "import numpy as np\n",
    "#Import this library b/c i didnt realize numpy had a e^x fcn and now it is too late to go back. \n",
    "import math as mt\n",
    "import matplotlib.pyplot as plt\n",
    "#until I get to write unique code my comments are gonna be less than par"
   ]
  },
  {
   "cell_type": "code",
   "execution_count": null,
   "metadata": {},
   "outputs": [],
   "source": [
    "#Required Fcn\n",
    "def func(x):\n",
    "    func_1=mt.exp(-2*x)\n",
    "    func_2=np.cos(10*x)\n",
    "    return func_1*func_2"
   ]
  },
  {
   "cell_type": "code",
   "execution_count": null,
   "metadata": {},
   "outputs": [],
   "source": [
    "def trapezoid_core(f,x,h):\n",
    "    return 0.5*h*(f(x+h) + f(x))"
   ]
  },
  {
   "cell_type": "code",
   "execution_count": null,
   "metadata": {},
   "outputs": [],
   "source": [
    "def trapezoid_method(f,a,b,N):\n",
    "    #f==fcn to integrate\n",
    "    #a==lower lim of int\n",
    "    #b==upper lim of int\n",
    "    #N==num of fcn evaluations to use\n",
    "    x=np.linspace(a,b,N)\n",
    "    h=x[1]-x[0]\n",
    "    \n",
    "    #define the value of the int\n",
    "    Fint=0.0\n",
    "    i=0\n",
    "    #trap rule\n",
    "    for i in range(0,len(x)-1):\n",
    "        Fint += trapezoid_core(f,x[i],h)\n",
    "        \n",
    "    #Check line 118\n",
    "    print(\"The number of iterations for this method is \",i)   \n",
    "    return Fint"
   ]
  },
  {
   "cell_type": "code",
   "execution_count": null,
   "metadata": {},
   "outputs": [],
   "source": [
    "def simpson_core(f,x,h):\n",
    "    return h*(f(x)+4*f(x+h)+f(x+2*h))/3"
   ]
  },
  {
   "cell_type": "code",
   "execution_count": null,
   "metadata": {},
   "outputs": [],
   "source": [
    "def simpsons_method(f,a,b,N):\n",
    "    #f == fcn to integrate\n",
    "    #a==lower lim of int\n",
    "    #b==upper lim of int\n",
    "    #N==num of fcn evaluations to use\n",
    "    \n",
    "    #def x to perform simpsons rule\n",
    "    x=np.linspace(a,b,N)\n",
    "    h=x[1]-x[0]\n",
    "    i=0\n",
    "    Fint=0.0\n",
    "    \n",
    "    for i in range(0,len(x)-2,2):\n",
    "        Fint += simpson_core(f,x[i],h)\n",
    "    #if n is even apply over last interval\n",
    "    if((N%2)==0):\n",
    "        Fint += simpson_core(f,x[-2],0.5*h)\n",
    "    print(\"The number of iterations for this method is \",i)    \n",
    "    return Fint"
   ]
  },
  {
   "cell_type": "code",
   "execution_count": null,
   "metadata": {},
   "outputs": [],
   "source": [
    "def romberg_core(f,a,b,i):\n",
    "    #diff\n",
    "    h=b-a\n",
    "    #lol made you look \n",
    "    dh = h/2.**(i)\n",
    "    \n",
    "    #trust the process this is func evals\n",
    "    K=h/2.**(i+1)\n",
    "    \n",
    "    #cofactor \n",
    "    M=0.0\n",
    "    for j in range(2**i):\n",
    "        M += f(a + 0.5*dh + j*dh)\n",
    "    return K*M"
   ]
  },
  {
   "cell_type": "code",
   "execution_count": null,
   "metadata": {},
   "outputs": [],
   "source": [
    "def romberg_integration(f,a,b,tol):\n",
    "    #def an iteration variable\n",
    "    i=0\n",
    "    \n",
    "    imax=1000\n",
    "    \n",
    "    delta = 100.0* np.fabs(tol)\n",
    "    I=np.zeros(imax,dtype=float)\n",
    "    \n",
    "    I[0] = 0.5 *(b-a)*(f(a) + f(b))\n",
    "    \n",
    "    i+=1\n",
    "    \n",
    "    while(delta>tol):\n",
    "        I[i] = 0.5*I[i-1] + romberg_core(f,a,b,i)\n",
    "        \n",
    "        delta = np.fabs((I[i]-I[i-1])/I[i])\n",
    "        \n",
    "        print(i,I[i],I[i-1],delta)\n",
    "        \n",
    "        if(delta>tol):\n",
    "            i+=1\n",
    "            if(i>imax):\n",
    "                print(\"Max iterations reached.\")\n",
    "                raise StopIteration('Stoping Iteration after ',i)\n",
    "    return I[i]"
   ]
  },
  {
   "cell_type": "code",
   "execution_count": null,
   "metadata": {},
   "outputs": [],
   "source": [
    "def integration_driver():\n",
    "    print(\"Trapezoid: \", trapezoid_method(func,0, np.pi,200))\n",
    "    print(\"Simpson: \", simpsons_method(func,0, np.pi,100))\n",
    "    print(\"Romberg: \")\n",
    "    #NOTE!!!! I did not print an iteration counter for Romber b/c we already print out each iteration already. No need for redundancy \n",
    "    tolerance=1.0e-6\n",
    "    RI = romberg_integration(func,0,np.pi,tolerance)\n",
    "    print(RI,tolerance)\n",
    "integration_driver()"
   ]
  }
 ],
 "metadata": {
  "kernelspec": {
   "display_name": "Python 3",
   "language": "python",
   "name": "python3"
  },
  "language_info": {
   "codemirror_mode": {
    "name": "ipython",
    "version": 3
   },
   "file_extension": ".py",
   "mimetype": "text/x-python",
   "name": "python",
   "nbconvert_exporter": "python",
   "pygments_lexer": "ipython3",
   "version": "3.9.0"
  }
 },
 "nbformat": 4,
 "nbformat_minor": 4
}
